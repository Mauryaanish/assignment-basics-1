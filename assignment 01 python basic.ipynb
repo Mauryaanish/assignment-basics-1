{
 "cells": [
  {
   "cell_type": "code",
   "execution_count": null,
   "id": "559385ec",
   "metadata": {},
   "outputs": [],
   "source": [
    "## 1. In the below elements which of them are values or an expression? eg:- values can be\n",
    "integer or string and expressions will be mathematical operators."
   ]
  },
  {
   "cell_type": "code",
   "execution_count": null,
   "id": "92c52dc1",
   "metadata": {},
   "outputs": [],
   "source": [
    "## answer\n",
    "  *  mathematical operators:-  Multiplication\n",
    "    \n",
    "  \"hello\" string\n",
    "\n",
    "  -87.9 integer (Float Number)\n",
    "    \n",
    "  - mathematical operators:- Subtraction\n",
    "    \n",
    "  / Mathematical operators:- True Division\n",
    "    \n",
    "  + Mathematical operators:- Addition\n",
    "    \n",
    "  6 Integer"
   ]
  },
  {
   "cell_type": "code",
   "execution_count": null,
   "id": "c507460e",
   "metadata": {},
   "outputs": [],
   "source": [
    "## 2. What is the difference between string and variable?\n",
    "\n",
    "## Answer:-\n",
    "\n",
    ":- A string is a value representing text. a variable is a name that can refer to any value. quotes, double or single, (they mean the same, but can’t be matched with each other) are used to create string literals, the quotes are there to indicate that the text that they enclose is not code, it is a value"
   ]
  },
  {
   "cell_type": "code",
   "execution_count": null,
   "id": "7b69c1e8",
   "metadata": {},
   "outputs": [],
   "source": [
    "## 3. Describe three different data types.\n",
    "\n",
    "## Answer:-\n",
    "\n",
    "1 Integers data types:- 1,2,3,4\n",
    "2 Complex data types:- 2+3j\n",
    "3 float data types:- 3.5,6.6"
   ]
  },
  {
   "cell_type": "code",
   "execution_count": null,
   "id": "3e89085b",
   "metadata": {},
   "outputs": [],
   "source": [
    "## 4. What is an expression made up of? What do all expressions do?\n",
    "\n",
    "## Answer:-\n",
    "\n",
    "+   x + y:-  Addition\n",
    "–   x – y:-  Subtraction\n",
    "*   x * y:-  Multiplication\n",
    "/   x / y:-  Division\n",
    "//  x // y:- Quotient\n",
    "%   x % y:-  Remainder\n",
    "**  x ** y:- Exponentiation"
   ]
  },
  {
   "cell_type": "code",
   "execution_count": null,
   "id": "69dc225d",
   "metadata": {},
   "outputs": [],
   "source": [
    "## 5. This assignment statements, like spam = 10. What is the difference between an\n",
    "expression and a statement?\n",
    "\n",
    "## Answer:-\n",
    "Expressions only contain identifiers, literals and operators, where operators include arithmetic and boolean operators, the function call operator () the subscription operator [] and similar, and can be reduced to some kind of \"value\", which can be any Python object."
   ]
  },
  {
   "cell_type": "code",
   "execution_count": 4,
   "id": "d58f360a",
   "metadata": {},
   "outputs": [
    {
     "data": {
      "text/plain": [
       "'221'"
      ]
     },
     "execution_count": 4,
     "metadata": {},
     "output_type": "execute_result"
    }
   ],
   "source": [
    "## 6. After running the following code, what does the variable bacon contain?\n",
    "bacon = 22\n",
    "bacon + 1\n",
    "\n",
    "## Answer:-\n",
    "\n",
    "bacon=str(\"22\")\n",
    "bacon+str(1)"
   ]
  },
  {
   "cell_type": "code",
   "execution_count": 8,
   "id": "0bc6e54a",
   "metadata": {},
   "outputs": [
    {
     "data": {
      "text/plain": [
       "'spamspamspam'"
      ]
     },
     "execution_count": 8,
     "metadata": {},
     "output_type": "execute_result"
    }
   ],
   "source": [
    "## 7. What should the values of the following two terms be?\n",
    "'spam'+'spamspam'\n",
    "'spam'*3"
   ]
  },
  {
   "cell_type": "code",
   "execution_count": 9,
   "id": "7ca5a2e5",
   "metadata": {},
   "outputs": [
    {
     "data": {
      "text/plain": [
       "'spamspamspam'"
      ]
     },
     "execution_count": 9,
     "metadata": {},
     "output_type": "execute_result"
    }
   ],
   "source": [
    "'spam'*3 ## both are answer is same "
   ]
  },
  {
   "cell_type": "code",
   "execution_count": null,
   "id": "e8e2eb04",
   "metadata": {},
   "outputs": [],
   "source": [
    "## 8.Why is eggs a valid variable name while 100 is invalid?\n",
    "\n",
    "## Answer:-\n",
    " Variable names cannot begin with a number."
   ]
  },
  {
   "cell_type": "code",
   "execution_count": null,
   "id": "0bcac745",
   "metadata": {},
   "outputs": [],
   "source": [
    "## 9. What three functions can be used to get the integer, floating-point number, or string\n",
    "version of a value?\n",
    "\n",
    "## Answer:-\n",
    "integer:- int=6,8,8,9\n",
    "floating:-point number= float=6.5 , 9.6 , 9.5\n",
    "string:- str=\"anish\""
   ]
  },
  {
   "cell_type": "code",
   "execution_count": 10,
   "id": "4fa73897",
   "metadata": {},
   "outputs": [
    {
     "ename": "TypeError",
     "evalue": "can only concatenate str (not \"int\") to str",
     "output_type": "error",
     "traceback": [
      "\u001b[1;31m---------------------------------------------------------------------------\u001b[0m",
      "\u001b[1;31mTypeError\u001b[0m                                 Traceback (most recent call last)",
      "\u001b[1;32m~\\AppData\\Local\\Temp\\ipykernel_12624\\1514284663.py\u001b[0m in \u001b[0;36m<module>\u001b[1;34m\u001b[0m\n\u001b[0;32m      1\u001b[0m \u001b[1;31m## 10.Why does this expression cause an error? How can you fix it?\u001b[0m\u001b[1;33m\u001b[0m\u001b[1;33m\u001b[0m\u001b[0m\n\u001b[0;32m      2\u001b[0m \u001b[1;33m\u001b[0m\u001b[0m\n\u001b[1;32m----> 3\u001b[1;33m \u001b[0ma\u001b[0m \u001b[1;33m=\u001b[0m\u001b[1;34m\"I have eaten\"\u001b[0m\u001b[1;33m+\u001b[0m\u001b[1;36m99\u001b[0m\u001b[1;33m+\u001b[0m\u001b[1;34m\"burritos\"\u001b[0m\u001b[1;33m\u001b[0m\u001b[1;33m\u001b[0m\u001b[0m\n\u001b[0m",
      "\u001b[1;31mTypeError\u001b[0m: can only concatenate str (not \"int\") to str"
     ]
    }
   ],
   "source": [
    "## 10.Why does this expression cause an error? How can you fix it?\n",
    " \n",
    "a =\"I have eaten\"+99+\"burritos\""
   ]
  },
  {
   "cell_type": "code",
   "execution_count": 17,
   "id": "023c66da",
   "metadata": {},
   "outputs": [
    {
     "data": {
      "text/plain": [
       "'I have eaten99burritos'"
      ]
     },
     "execution_count": 17,
     "metadata": {},
     "output_type": "execute_result"
    }
   ],
   "source": [
    "## Answer is\n",
    "\n",
    "a= \"I have eaten\" + str (99)  + \"burritos\"\n",
    "a"
   ]
  }
 ],
 "metadata": {
  "kernelspec": {
   "display_name": "Python 3 (ipykernel)",
   "language": "python",
   "name": "python3"
  },
  "language_info": {
   "codemirror_mode": {
    "name": "ipython",
    "version": 3
   },
   "file_extension": ".py",
   "mimetype": "text/x-python",
   "name": "python",
   "nbconvert_exporter": "python",
   "pygments_lexer": "ipython3",
   "version": "3.9.13"
  }
 },
 "nbformat": 4,
 "nbformat_minor": 5
}
